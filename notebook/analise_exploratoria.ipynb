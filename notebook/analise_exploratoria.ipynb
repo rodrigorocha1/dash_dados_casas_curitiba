{
 "cells": [
  {
   "cell_type": "code",
   "execution_count": 98,
   "metadata": {
    "collapsed": true
   },
   "outputs": [],
   "source": [
    "import pandas as pd\n",
    "from tqdm import tqdm"
   ]
  },
  {
   "cell_type": "code",
   "execution_count": 99,
   "outputs": [],
   "source": [
    "df_original = pd.read_csv('../data/raw/curitiba_apartment_real_estate_data.csv')"
   ],
   "metadata": {
    "collapsed": false
   }
  },
  {
   "cell_type": "code",
   "execution_count": 100,
   "outputs": [],
   "source": [
    "df_original.amenities = df_original.amenities.sort_values()"
   ],
   "metadata": {
    "collapsed": false
   }
  },
  {
   "cell_type": "code",
   "execution_count": 101,
   "outputs": [
    {
     "data": {
      "text/plain": "   usableAreas  totalAreas  suites  bathrooms  bedrooms  parkingSpaces  \\\n0           77        90.0     1.0          2         3            1.0   \n1           53        53.0     NaN          1         3            1.0   \n2          113         NaN     1.0          4         3            2.0   \n3           93       106.0     1.0          2         3            2.0   \n4           66         NaN     1.0          2         3            1.0   \n\n                                           amenities  \\\n0  ['BARBECUE_GRILL', 'ELEVATOR', 'GATED_COMMUNIT...   \n1  ['BARBECUE_GRILL', 'GATED_COMMUNITY', 'GYM', '...   \n2  ['POOL', 'BARBECUE_GRILL', 'ELEVATOR', 'GATED_...   \n3  ['POOL', 'FURNISHED', 'BARBECUE_GRILL', 'ELEVA...   \n4  ['BARBECUE_GRILL', 'GATED_COMMUNITY', 'PETS_AL...   \n\n                                         description  \\\n0  Apartamento com 3 dormitórios, sendo uma suíte...   \n1  Apartamento ensolarado e com linda vista pro P...   \n2  22º andar, face Norte, linda vista para a Serr...   \n3  Apartamento Residencial com 70m2 interno total...   \n4  Excelente apto garden com 66m² de área útil em...   \n\n                                               title   zipCode        lon  \\\n0  Apartamento para venda tem 77 metros quadrados...  82540130 -49.249319   \n1  Apartamento ensolarado com 3 quartos ao lado d...  81320180 -49.326716   \n2  Apt para venda no Cond. Botânica: 113 m² com 3...  80050470 -49.239110   \n3  Apartamento Mobiliado de Porteira Fechada incl...  81210310 -49.335318   \n4                   Apartamento Novo Mundo 66m² útil  81050150 -49.304465   \n\n         lat                              street    neighborhood  \\\n0 -25.394261         Rua Nossa Senhora de Nazaré       Boa Vista   \n1 -25.474533              Rua Alfredo José Pinto      Fazendinha   \n2 -25.437162  Rua Coronel Pedro Scherer Sobrinho      Cristo Rei   \n3 -25.442254        Rua Jeremias Maciel Perretto  Campo Comprido   \n4 -25.492857      Rua Deputado Waldemiro Pedroso      Novo Mundo   \n\n                                            poisList  yearlyIptu  \\\n0  ['BS:Estação Tubo Holanda', 'BS:Estação-tubo G...       700.0   \n1  ['BS:Rua José Gonçalves Júnior, 182', 'BS:Rua ...         NaN   \n2  ['BS:Estação Hospital Cajuru', 'BS:Linha Turis...       240.0   \n3  ['BS:Estação-tubo Mossunguê', 'BS:Mossunguê', ...       400.0   \n4  ['BS:Ponto - 672 Formosa', 'BS:Ponto - 615 Ube...         NaN   \n\n   monthlyCondoFee    price  \n0            400.0   595000  \n1            392.0   185000  \n2            550.0  1220000  \n3            600.0   610000  \n4              NaN   269990  ",
      "text/html": "<div>\n<style scoped>\n    .dataframe tbody tr th:only-of-type {\n        vertical-align: middle;\n    }\n\n    .dataframe tbody tr th {\n        vertical-align: top;\n    }\n\n    .dataframe thead th {\n        text-align: right;\n    }\n</style>\n<table border=\"1\" class=\"dataframe\">\n  <thead>\n    <tr style=\"text-align: right;\">\n      <th></th>\n      <th>usableAreas</th>\n      <th>totalAreas</th>\n      <th>suites</th>\n      <th>bathrooms</th>\n      <th>bedrooms</th>\n      <th>parkingSpaces</th>\n      <th>amenities</th>\n      <th>description</th>\n      <th>title</th>\n      <th>zipCode</th>\n      <th>lon</th>\n      <th>lat</th>\n      <th>street</th>\n      <th>neighborhood</th>\n      <th>poisList</th>\n      <th>yearlyIptu</th>\n      <th>monthlyCondoFee</th>\n      <th>price</th>\n    </tr>\n  </thead>\n  <tbody>\n    <tr>\n      <th>0</th>\n      <td>77</td>\n      <td>90.0</td>\n      <td>1.0</td>\n      <td>2</td>\n      <td>3</td>\n      <td>1.0</td>\n      <td>['BARBECUE_GRILL', 'ELEVATOR', 'GATED_COMMUNIT...</td>\n      <td>Apartamento com 3 dormitórios, sendo uma suíte...</td>\n      <td>Apartamento para venda tem 77 metros quadrados...</td>\n      <td>82540130</td>\n      <td>-49.249319</td>\n      <td>-25.394261</td>\n      <td>Rua Nossa Senhora de Nazaré</td>\n      <td>Boa Vista</td>\n      <td>['BS:Estação Tubo Holanda', 'BS:Estação-tubo G...</td>\n      <td>700.0</td>\n      <td>400.0</td>\n      <td>595000</td>\n    </tr>\n    <tr>\n      <th>1</th>\n      <td>53</td>\n      <td>53.0</td>\n      <td>NaN</td>\n      <td>1</td>\n      <td>3</td>\n      <td>1.0</td>\n      <td>['BARBECUE_GRILL', 'GATED_COMMUNITY', 'GYM', '...</td>\n      <td>Apartamento ensolarado e com linda vista pro P...</td>\n      <td>Apartamento ensolarado com 3 quartos ao lado d...</td>\n      <td>81320180</td>\n      <td>-49.326716</td>\n      <td>-25.474533</td>\n      <td>Rua Alfredo José Pinto</td>\n      <td>Fazendinha</td>\n      <td>['BS:Rua José Gonçalves Júnior, 182', 'BS:Rua ...</td>\n      <td>NaN</td>\n      <td>392.0</td>\n      <td>185000</td>\n    </tr>\n    <tr>\n      <th>2</th>\n      <td>113</td>\n      <td>NaN</td>\n      <td>1.0</td>\n      <td>4</td>\n      <td>3</td>\n      <td>2.0</td>\n      <td>['POOL', 'BARBECUE_GRILL', 'ELEVATOR', 'GATED_...</td>\n      <td>22º andar, face Norte, linda vista para a Serr...</td>\n      <td>Apt para venda no Cond. Botânica: 113 m² com 3...</td>\n      <td>80050470</td>\n      <td>-49.239110</td>\n      <td>-25.437162</td>\n      <td>Rua Coronel Pedro Scherer Sobrinho</td>\n      <td>Cristo Rei</td>\n      <td>['BS:Estação Hospital Cajuru', 'BS:Linha Turis...</td>\n      <td>240.0</td>\n      <td>550.0</td>\n      <td>1220000</td>\n    </tr>\n    <tr>\n      <th>3</th>\n      <td>93</td>\n      <td>106.0</td>\n      <td>1.0</td>\n      <td>2</td>\n      <td>3</td>\n      <td>2.0</td>\n      <td>['POOL', 'FURNISHED', 'BARBECUE_GRILL', 'ELEVA...</td>\n      <td>Apartamento Residencial com 70m2 interno total...</td>\n      <td>Apartamento Mobiliado de Porteira Fechada incl...</td>\n      <td>81210310</td>\n      <td>-49.335318</td>\n      <td>-25.442254</td>\n      <td>Rua Jeremias Maciel Perretto</td>\n      <td>Campo Comprido</td>\n      <td>['BS:Estação-tubo Mossunguê', 'BS:Mossunguê', ...</td>\n      <td>400.0</td>\n      <td>600.0</td>\n      <td>610000</td>\n    </tr>\n    <tr>\n      <th>4</th>\n      <td>66</td>\n      <td>NaN</td>\n      <td>1.0</td>\n      <td>2</td>\n      <td>3</td>\n      <td>1.0</td>\n      <td>['BARBECUE_GRILL', 'GATED_COMMUNITY', 'PETS_AL...</td>\n      <td>Excelente apto garden com 66m² de área útil em...</td>\n      <td>Apartamento Novo Mundo 66m² útil</td>\n      <td>81050150</td>\n      <td>-49.304465</td>\n      <td>-25.492857</td>\n      <td>Rua Deputado Waldemiro Pedroso</td>\n      <td>Novo Mundo</td>\n      <td>['BS:Ponto - 672 Formosa', 'BS:Ponto - 615 Ube...</td>\n      <td>NaN</td>\n      <td>NaN</td>\n      <td>269990</td>\n    </tr>\n  </tbody>\n</table>\n</div>"
     },
     "execution_count": 101,
     "metadata": {},
     "output_type": "execute_result"
    }
   ],
   "source": [
    "df_original.head()"
   ],
   "metadata": {
    "collapsed": false
   }
  },
  {
   "cell_type": "code",
   "execution_count": 102,
   "outputs": [
    {
     "data": {
      "text/plain": "(18760, 18)"
     },
     "execution_count": 102,
     "metadata": {},
     "output_type": "execute_result"
    }
   ],
   "source": [
    "df_original.shape"
   ],
   "metadata": {
    "collapsed": false
   }
  },
  {
   "cell_type": "code",
   "execution_count": 104,
   "outputs": [
    {
     "data": {
      "text/plain": "        usableAreas     totalAreas        suites     bathrooms      bedrooms  \\\ncount  18760.000000   18030.000000  17456.000000  18760.000000  18760.000000   \nmean     111.940938     204.335996      1.234934      2.385075      2.499200   \nstd      101.236947    2018.776854      1.049820      1.376859      0.880757   \nmin       10.000000       1.000000      0.000000      1.000000      1.000000   \n25%       57.000000      69.000000      1.000000      1.000000      2.000000   \n50%       89.000000     119.000000      1.000000      2.000000      3.000000   \n75%      139.000000     199.000000      2.000000      3.000000      3.000000   \nmax     5000.000000  174932.000000      8.000000     11.000000      8.000000   \n\n       parkingSpaces       zipCode           lon           lat    yearlyIptu  \\\ncount   18097.000000  1.876000e+04  13195.000000  13195.000000  1.441200e+04   \nmean        1.583246  8.063613e+07    -49.281718    -25.442629  3.085847e+03   \nstd         1.158257  6.462913e+05      0.056163      0.051163  1.540960e+05   \nmin         0.000000  8.001000e+07    -54.584012    -25.585247  0.000000e+00   \n25%         1.000000  8.024002e+07    -49.291754    -25.456533  0.000000e+00   \n50%         1.000000  8.053001e+07    -49.283922    -25.439361  0.000000e+00   \n75%         2.000000  8.073032e+07    -49.264674    -25.431595  1.500000e+02   \nmax        40.000000  9.701049e+07    -49.180834    -20.434671  1.503353e+07   \n\n       monthlyCondoFee         price  \ncount     1.516900e+04  1.876000e+04  \nmean      4.179377e+03  1.099262e+06  \nstd       1.608748e+05  1.840035e+06  \nmin       0.000000e+00  8.500000e+02  \n25%       0.000000e+00  3.500000e+05  \n50%       3.800000e+02  6.500000e+05  \n75%       7.300000e+02  1.267950e+06  \nmax       1.600000e+07  1.290331e+08  ",
      "text/html": "<div>\n<style scoped>\n    .dataframe tbody tr th:only-of-type {\n        vertical-align: middle;\n    }\n\n    .dataframe tbody tr th {\n        vertical-align: top;\n    }\n\n    .dataframe thead th {\n        text-align: right;\n    }\n</style>\n<table border=\"1\" class=\"dataframe\">\n  <thead>\n    <tr style=\"text-align: right;\">\n      <th></th>\n      <th>usableAreas</th>\n      <th>totalAreas</th>\n      <th>suites</th>\n      <th>bathrooms</th>\n      <th>bedrooms</th>\n      <th>parkingSpaces</th>\n      <th>zipCode</th>\n      <th>lon</th>\n      <th>lat</th>\n      <th>yearlyIptu</th>\n      <th>monthlyCondoFee</th>\n      <th>price</th>\n    </tr>\n  </thead>\n  <tbody>\n    <tr>\n      <th>count</th>\n      <td>18760.000000</td>\n      <td>18030.000000</td>\n      <td>17456.000000</td>\n      <td>18760.000000</td>\n      <td>18760.000000</td>\n      <td>18097.000000</td>\n      <td>1.876000e+04</td>\n      <td>13195.000000</td>\n      <td>13195.000000</td>\n      <td>1.441200e+04</td>\n      <td>1.516900e+04</td>\n      <td>1.876000e+04</td>\n    </tr>\n    <tr>\n      <th>mean</th>\n      <td>111.940938</td>\n      <td>204.335996</td>\n      <td>1.234934</td>\n      <td>2.385075</td>\n      <td>2.499200</td>\n      <td>1.583246</td>\n      <td>8.063613e+07</td>\n      <td>-49.281718</td>\n      <td>-25.442629</td>\n      <td>3.085847e+03</td>\n      <td>4.179377e+03</td>\n      <td>1.099262e+06</td>\n    </tr>\n    <tr>\n      <th>std</th>\n      <td>101.236947</td>\n      <td>2018.776854</td>\n      <td>1.049820</td>\n      <td>1.376859</td>\n      <td>0.880757</td>\n      <td>1.158257</td>\n      <td>6.462913e+05</td>\n      <td>0.056163</td>\n      <td>0.051163</td>\n      <td>1.540960e+05</td>\n      <td>1.608748e+05</td>\n      <td>1.840035e+06</td>\n    </tr>\n    <tr>\n      <th>min</th>\n      <td>10.000000</td>\n      <td>1.000000</td>\n      <td>0.000000</td>\n      <td>1.000000</td>\n      <td>1.000000</td>\n      <td>0.000000</td>\n      <td>8.001000e+07</td>\n      <td>-54.584012</td>\n      <td>-25.585247</td>\n      <td>0.000000e+00</td>\n      <td>0.000000e+00</td>\n      <td>8.500000e+02</td>\n    </tr>\n    <tr>\n      <th>25%</th>\n      <td>57.000000</td>\n      <td>69.000000</td>\n      <td>1.000000</td>\n      <td>1.000000</td>\n      <td>2.000000</td>\n      <td>1.000000</td>\n      <td>8.024002e+07</td>\n      <td>-49.291754</td>\n      <td>-25.456533</td>\n      <td>0.000000e+00</td>\n      <td>0.000000e+00</td>\n      <td>3.500000e+05</td>\n    </tr>\n    <tr>\n      <th>50%</th>\n      <td>89.000000</td>\n      <td>119.000000</td>\n      <td>1.000000</td>\n      <td>2.000000</td>\n      <td>3.000000</td>\n      <td>1.000000</td>\n      <td>8.053001e+07</td>\n      <td>-49.283922</td>\n      <td>-25.439361</td>\n      <td>0.000000e+00</td>\n      <td>3.800000e+02</td>\n      <td>6.500000e+05</td>\n    </tr>\n    <tr>\n      <th>75%</th>\n      <td>139.000000</td>\n      <td>199.000000</td>\n      <td>2.000000</td>\n      <td>3.000000</td>\n      <td>3.000000</td>\n      <td>2.000000</td>\n      <td>8.073032e+07</td>\n      <td>-49.264674</td>\n      <td>-25.431595</td>\n      <td>1.500000e+02</td>\n      <td>7.300000e+02</td>\n      <td>1.267950e+06</td>\n    </tr>\n    <tr>\n      <th>max</th>\n      <td>5000.000000</td>\n      <td>174932.000000</td>\n      <td>8.000000</td>\n      <td>11.000000</td>\n      <td>8.000000</td>\n      <td>40.000000</td>\n      <td>9.701049e+07</td>\n      <td>-49.180834</td>\n      <td>-20.434671</td>\n      <td>1.503353e+07</td>\n      <td>1.600000e+07</td>\n      <td>1.290331e+08</td>\n    </tr>\n  </tbody>\n</table>\n</div>"
     },
     "execution_count": 104,
     "metadata": {},
     "output_type": "execute_result"
    }
   ],
   "source": [
    "df_original.describe()"
   ],
   "metadata": {
    "collapsed": false
   }
  },
  {
   "cell_type": "code",
   "execution_count": 105,
   "outputs": [
    {
     "name": "stdout",
     "output_type": "stream",
     "text": [
      "<class 'pandas.core.frame.DataFrame'>\n",
      "RangeIndex: 18760 entries, 0 to 18759\n",
      "Data columns (total 18 columns):\n",
      " #   Column           Non-Null Count  Dtype  \n",
      "---  ------           --------------  -----  \n",
      " 0   usableAreas      18760 non-null  int64  \n",
      " 1   totalAreas       18030 non-null  float64\n",
      " 2   suites           17456 non-null  float64\n",
      " 3   bathrooms        18760 non-null  int64  \n",
      " 4   bedrooms         18760 non-null  int64  \n",
      " 5   parkingSpaces    18097 non-null  float64\n",
      " 6   amenities        18760 non-null  object \n",
      " 7   description      18730 non-null  object \n",
      " 8   title            18633 non-null  object \n",
      " 9   zipCode          18760 non-null  int64  \n",
      " 10  lon              13195 non-null  float64\n",
      " 11  lat              13195 non-null  float64\n",
      " 12  street           15689 non-null  object \n",
      " 13  neighborhood     18760 non-null  object \n",
      " 14  poisList         18760 non-null  object \n",
      " 15  yearlyIptu       14412 non-null  float64\n",
      " 16  monthlyCondoFee  15169 non-null  float64\n",
      " 17  price            18760 non-null  int64  \n",
      "dtypes: float64(7), int64(5), object(6)\n",
      "memory usage: 2.6+ MB\n"
     ]
    }
   ],
   "source": [
    "df_original.info()"
   ],
   "metadata": {
    "collapsed": false
   }
  },
  {
   "cell_type": "code",
   "execution_count": 106,
   "outputs": [
    {
     "data": {
      "text/plain": "usableAreas           0\ntotalAreas          730\nsuites             1304\nbathrooms             0\nbedrooms              0\nparkingSpaces       663\namenities             0\ndescription          30\ntitle               127\nzipCode               0\nlon                5565\nlat                5565\nstreet             3071\nneighborhood          0\npoisList              0\nyearlyIptu         4348\nmonthlyCondoFee    3591\nprice                 0\ndtype: int64"
     },
     "execution_count": 106,
     "metadata": {},
     "output_type": "execute_result"
    }
   ],
   "source": [
    "df_original.isnull().sum()"
   ],
   "metadata": {
    "collapsed": false
   }
  },
  {
   "cell_type": "code",
   "execution_count": 109,
   "outputs": [
    {
     "data": {
      "text/plain": "      level_0  index  usableAreas  totalAreas  suites  bathrooms  bedrooms  \\\n0           0      0           77        90.0     1.0          2         3   \n1           1      3           93       106.0     1.0          2         3   \n2           2      7           88       146.0     1.0          2         3   \n3           3     16           78       130.0     1.0          2         3   \n4           4     23           94       168.0     1.0          2         3   \n...       ...    ...          ...         ...     ...        ...       ...   \n9170     9170  18728          126       240.0     2.0          2         2   \n9171     9171  18741          132        10.0     1.0          3         3   \n9172     9172  18742          132        10.0     1.0          3         3   \n9173     9173  18751          274       375.0     2.0          3         4   \n9174     9174  18758          372       700.0     4.0          6         4   \n\n      parkingSpaces                                          amenities  \\\n0               1.0  ['BARBECUE_GRILL', 'ELEVATOR', 'GATED_COMMUNIT...   \n1               2.0  ['POOL', 'FURNISHED', 'BARBECUE_GRILL', 'ELEVA...   \n2               1.0  ['BARBECUE_GRILL', 'ELEVATOR', 'PLAYGROUND', '...   \n3               2.0  ['POOL', 'FURNISHED', 'BARBECUE_GRILL', 'ELEVA...   \n4               2.0  ['FURNISHED', 'BARBECUE_GRILL', 'ELEVATOR', 'G...   \n...             ...                                                ...   \n9170            2.0  ['POOL', 'BARBECUE_GRILL', 'ELEVATOR', 'BALCON...   \n9171            1.0                                                 []   \n9172            1.0                                                 []   \n9173            2.0                      ['KITCHEN', 'BARBECUE_GRILL']   \n9174            5.0                                           ['POOL']   \n\n                                            description  \\\n0     Apartamento com 3 dormitórios, sendo uma suíte...   \n1     Apartamento Residencial com 70m2 interno total...   \n2     Apartamento impecável, direto com o proprietár...   \n3     Excelente apartamento no 19º (Último andar) do...   \n4     Apartamento 3Q mobiliado, pronto para morar, n...   \n...                                                 ...   \n9170  CASA MILANO LANÇAMENTO<br>Empreendimento de al...   \n9171  Apartamento à Venda, 132m² por R$ 499.500. Big...   \n9172  Apartamento à Venda, 132m² por R$ 499.500. Big...   \n9173  Apartamento Duplex à Venda, 274m² por R$ 1.100...   \n9174  O Vigo, é um empreendimento longe do comum, do...   \n\n                                                  title   zipCode        lon  \\\n0     Apartamento para venda tem 77 metros quadrados...  82540130 -49.249319   \n1     Apartamento Mobiliado de Porteira Fechada incl...  81210310 -49.335318   \n2     Apartamento para venda possui 88 metros quadra...  82510000 -49.244942   \n3     Apartamento para venda com 78 metros quadrados...  81130020 -49.296779   \n4     Apartamento para venda possui 94 metros quadra...  80620230 -49.284776   \n...                                                 ...       ...        ...   \n9170             Apartamento - Bigorrilho - Curitiba/PR  80730030 -49.304550   \n9171  Apartamento à venda 3 Quartos, 1 Suite, 1 Vaga...  80730440 -49.291627   \n9172  Apartamento à venda 3 Quartos, 1 Suite, 1 Vaga...  80730440 -49.291627   \n9173  Apartamento Duplex à venda 4 quartos 2 suítes ...  80730030 -49.291830   \n9174  APARTAMENTO com 4 dormitórios à venda com 700....  80730180 -49.289262   \n\n            lat                        street    neighborhood  \\\n0    -25.394261   Rua Nossa Senhora de Nazaré       Boa Vista   \n1    -25.442254  Rua Jeremias Maciel Perretto  Campo Comprido   \n2    -25.398545                Avenida Paraná       Bacacheri   \n3    -25.499005   Rua José Clementino Bettega      Capão Raso   \n4    -25.459128  Rua Monsenhor Manoel Vicente      Água Verde   \n...         ...                           ...             ...   \n9170 -25.436016             Rua Martim Afonso      Bigorrilho   \n9171 -25.431297      Avenida Cândido Hartmann          Mercês   \n9172 -25.431297      Avenida Cândido Hartmann          Mercês   \n9173 -25.431390             Rua Martim Afonso      Bigorrilho   \n9174 -25.435242          Rua Saldanha Marinho      Bigorrilho   \n\n                                               poisList  yearlyIptu  \\\n0     ['BS:Estação Tubo Holanda', 'BS:Estação-tubo G...       700.0   \n1     ['BS:Estação-tubo Mossunguê', 'BS:Mossunguê', ...       400.0   \n2     ['BS:Estação Tubo Holanda', 'BS:Estação-tubo G...      1000.0   \n3     ['BS:Estação-tubo José Bettega', 'BS:Estação S...       980.0   \n4     ['BS:Largo Ciro Silva', 'BS:Estação tubo Dom P...       100.0   \n...                                                 ...         ...   \n9170  ['BS:Estação-tubo Gastão Câmara', 'BS:Estação-...         0.0   \n9171  ['BS:Estação-tubo Praça da Ucrânia', 'BS:Estaç...       140.0   \n9172  ['BS:Estação-tubo Praça da Ucrânia', 'BS:Estaç...       140.0   \n9173  ['BS:Estação-tubo Praça da Ucrânia', 'BS:Estaç...       190.0   \n9174  ['BS:Estação-tubo Praça da Ucrânia', 'BS:Estaç...         0.0   \n\n      monthlyCondoFee    price  \n0               400.0   595000  \n1               600.0   610000  \n2               800.0   495000  \n3               700.0   649900  \n4               530.0   680000  \n...               ...      ...  \n9170              0.0  1300000  \n9171            375.0   499500  \n9172            375.0   499500  \n9173           1644.0  1100000  \n9174              0.0  5901000  \n\n[9175 rows x 20 columns]",
      "text/html": "<div>\n<style scoped>\n    .dataframe tbody tr th:only-of-type {\n        vertical-align: middle;\n    }\n\n    .dataframe tbody tr th {\n        vertical-align: top;\n    }\n\n    .dataframe thead th {\n        text-align: right;\n    }\n</style>\n<table border=\"1\" class=\"dataframe\">\n  <thead>\n    <tr style=\"text-align: right;\">\n      <th></th>\n      <th>level_0</th>\n      <th>index</th>\n      <th>usableAreas</th>\n      <th>totalAreas</th>\n      <th>suites</th>\n      <th>bathrooms</th>\n      <th>bedrooms</th>\n      <th>parkingSpaces</th>\n      <th>amenities</th>\n      <th>description</th>\n      <th>title</th>\n      <th>zipCode</th>\n      <th>lon</th>\n      <th>lat</th>\n      <th>street</th>\n      <th>neighborhood</th>\n      <th>poisList</th>\n      <th>yearlyIptu</th>\n      <th>monthlyCondoFee</th>\n      <th>price</th>\n    </tr>\n  </thead>\n  <tbody>\n    <tr>\n      <th>0</th>\n      <td>0</td>\n      <td>0</td>\n      <td>77</td>\n      <td>90.0</td>\n      <td>1.0</td>\n      <td>2</td>\n      <td>3</td>\n      <td>1.0</td>\n      <td>['BARBECUE_GRILL', 'ELEVATOR', 'GATED_COMMUNIT...</td>\n      <td>Apartamento com 3 dormitórios, sendo uma suíte...</td>\n      <td>Apartamento para venda tem 77 metros quadrados...</td>\n      <td>82540130</td>\n      <td>-49.249319</td>\n      <td>-25.394261</td>\n      <td>Rua Nossa Senhora de Nazaré</td>\n      <td>Boa Vista</td>\n      <td>['BS:Estação Tubo Holanda', 'BS:Estação-tubo G...</td>\n      <td>700.0</td>\n      <td>400.0</td>\n      <td>595000</td>\n    </tr>\n    <tr>\n      <th>1</th>\n      <td>1</td>\n      <td>3</td>\n      <td>93</td>\n      <td>106.0</td>\n      <td>1.0</td>\n      <td>2</td>\n      <td>3</td>\n      <td>2.0</td>\n      <td>['POOL', 'FURNISHED', 'BARBECUE_GRILL', 'ELEVA...</td>\n      <td>Apartamento Residencial com 70m2 interno total...</td>\n      <td>Apartamento Mobiliado de Porteira Fechada incl...</td>\n      <td>81210310</td>\n      <td>-49.335318</td>\n      <td>-25.442254</td>\n      <td>Rua Jeremias Maciel Perretto</td>\n      <td>Campo Comprido</td>\n      <td>['BS:Estação-tubo Mossunguê', 'BS:Mossunguê', ...</td>\n      <td>400.0</td>\n      <td>600.0</td>\n      <td>610000</td>\n    </tr>\n    <tr>\n      <th>2</th>\n      <td>2</td>\n      <td>7</td>\n      <td>88</td>\n      <td>146.0</td>\n      <td>1.0</td>\n      <td>2</td>\n      <td>3</td>\n      <td>1.0</td>\n      <td>['BARBECUE_GRILL', 'ELEVATOR', 'PLAYGROUND', '...</td>\n      <td>Apartamento impecável, direto com o proprietár...</td>\n      <td>Apartamento para venda possui 88 metros quadra...</td>\n      <td>82510000</td>\n      <td>-49.244942</td>\n      <td>-25.398545</td>\n      <td>Avenida Paraná</td>\n      <td>Bacacheri</td>\n      <td>['BS:Estação Tubo Holanda', 'BS:Estação-tubo G...</td>\n      <td>1000.0</td>\n      <td>800.0</td>\n      <td>495000</td>\n    </tr>\n    <tr>\n      <th>3</th>\n      <td>3</td>\n      <td>16</td>\n      <td>78</td>\n      <td>130.0</td>\n      <td>1.0</td>\n      <td>2</td>\n      <td>3</td>\n      <td>2.0</td>\n      <td>['POOL', 'FURNISHED', 'BARBECUE_GRILL', 'ELEVA...</td>\n      <td>Excelente apartamento no 19º (Último andar) do...</td>\n      <td>Apartamento para venda com 78 metros quadrados...</td>\n      <td>81130020</td>\n      <td>-49.296779</td>\n      <td>-25.499005</td>\n      <td>Rua José Clementino Bettega</td>\n      <td>Capão Raso</td>\n      <td>['BS:Estação-tubo José Bettega', 'BS:Estação S...</td>\n      <td>980.0</td>\n      <td>700.0</td>\n      <td>649900</td>\n    </tr>\n    <tr>\n      <th>4</th>\n      <td>4</td>\n      <td>23</td>\n      <td>94</td>\n      <td>168.0</td>\n      <td>1.0</td>\n      <td>2</td>\n      <td>3</td>\n      <td>2.0</td>\n      <td>['FURNISHED', 'BARBECUE_GRILL', 'ELEVATOR', 'G...</td>\n      <td>Apartamento 3Q mobiliado, pronto para morar, n...</td>\n      <td>Apartamento para venda possui 94 metros quadra...</td>\n      <td>80620230</td>\n      <td>-49.284776</td>\n      <td>-25.459128</td>\n      <td>Rua Monsenhor Manoel Vicente</td>\n      <td>Água Verde</td>\n      <td>['BS:Largo Ciro Silva', 'BS:Estação tubo Dom P...</td>\n      <td>100.0</td>\n      <td>530.0</td>\n      <td>680000</td>\n    </tr>\n    <tr>\n      <th>...</th>\n      <td>...</td>\n      <td>...</td>\n      <td>...</td>\n      <td>...</td>\n      <td>...</td>\n      <td>...</td>\n      <td>...</td>\n      <td>...</td>\n      <td>...</td>\n      <td>...</td>\n      <td>...</td>\n      <td>...</td>\n      <td>...</td>\n      <td>...</td>\n      <td>...</td>\n      <td>...</td>\n      <td>...</td>\n      <td>...</td>\n      <td>...</td>\n      <td>...</td>\n    </tr>\n    <tr>\n      <th>9170</th>\n      <td>9170</td>\n      <td>18728</td>\n      <td>126</td>\n      <td>240.0</td>\n      <td>2.0</td>\n      <td>2</td>\n      <td>2</td>\n      <td>2.0</td>\n      <td>['POOL', 'BARBECUE_GRILL', 'ELEVATOR', 'BALCON...</td>\n      <td>CASA MILANO LANÇAMENTO&lt;br&gt;Empreendimento de al...</td>\n      <td>Apartamento - Bigorrilho - Curitiba/PR</td>\n      <td>80730030</td>\n      <td>-49.304550</td>\n      <td>-25.436016</td>\n      <td>Rua Martim Afonso</td>\n      <td>Bigorrilho</td>\n      <td>['BS:Estação-tubo Gastão Câmara', 'BS:Estação-...</td>\n      <td>0.0</td>\n      <td>0.0</td>\n      <td>1300000</td>\n    </tr>\n    <tr>\n      <th>9171</th>\n      <td>9171</td>\n      <td>18741</td>\n      <td>132</td>\n      <td>10.0</td>\n      <td>1.0</td>\n      <td>3</td>\n      <td>3</td>\n      <td>1.0</td>\n      <td>[]</td>\n      <td>Apartamento à Venda, 132m² por R$ 499.500. Big...</td>\n      <td>Apartamento à venda 3 Quartos, 1 Suite, 1 Vaga...</td>\n      <td>80730440</td>\n      <td>-49.291627</td>\n      <td>-25.431297</td>\n      <td>Avenida Cândido Hartmann</td>\n      <td>Mercês</td>\n      <td>['BS:Estação-tubo Praça da Ucrânia', 'BS:Estaç...</td>\n      <td>140.0</td>\n      <td>375.0</td>\n      <td>499500</td>\n    </tr>\n    <tr>\n      <th>9172</th>\n      <td>9172</td>\n      <td>18742</td>\n      <td>132</td>\n      <td>10.0</td>\n      <td>1.0</td>\n      <td>3</td>\n      <td>3</td>\n      <td>1.0</td>\n      <td>[]</td>\n      <td>Apartamento à Venda, 132m² por R$ 499.500. Big...</td>\n      <td>Apartamento à venda 3 Quartos, 1 Suite, 1 Vaga...</td>\n      <td>80730440</td>\n      <td>-49.291627</td>\n      <td>-25.431297</td>\n      <td>Avenida Cândido Hartmann</td>\n      <td>Mercês</td>\n      <td>['BS:Estação-tubo Praça da Ucrânia', 'BS:Estaç...</td>\n      <td>140.0</td>\n      <td>375.0</td>\n      <td>499500</td>\n    </tr>\n    <tr>\n      <th>9173</th>\n      <td>9173</td>\n      <td>18751</td>\n      <td>274</td>\n      <td>375.0</td>\n      <td>2.0</td>\n      <td>3</td>\n      <td>4</td>\n      <td>2.0</td>\n      <td>['KITCHEN', 'BARBECUE_GRILL']</td>\n      <td>Apartamento Duplex à Venda, 274m² por R$ 1.100...</td>\n      <td>Apartamento Duplex à venda 4 quartos 2 suítes ...</td>\n      <td>80730030</td>\n      <td>-49.291830</td>\n      <td>-25.431390</td>\n      <td>Rua Martim Afonso</td>\n      <td>Bigorrilho</td>\n      <td>['BS:Estação-tubo Praça da Ucrânia', 'BS:Estaç...</td>\n      <td>190.0</td>\n      <td>1644.0</td>\n      <td>1100000</td>\n    </tr>\n    <tr>\n      <th>9174</th>\n      <td>9174</td>\n      <td>18758</td>\n      <td>372</td>\n      <td>700.0</td>\n      <td>4.0</td>\n      <td>6</td>\n      <td>4</td>\n      <td>5.0</td>\n      <td>['POOL']</td>\n      <td>O Vigo, é um empreendimento longe do comum, do...</td>\n      <td>APARTAMENTO com 4 dormitórios à venda com 700....</td>\n      <td>80730180</td>\n      <td>-49.289262</td>\n      <td>-25.435242</td>\n      <td>Rua Saldanha Marinho</td>\n      <td>Bigorrilho</td>\n      <td>['BS:Estação-tubo Praça da Ucrânia', 'BS:Estaç...</td>\n      <td>0.0</td>\n      <td>0.0</td>\n      <td>5901000</td>\n    </tr>\n  </tbody>\n</table>\n<p>9175 rows × 20 columns</p>\n</div>"
     },
     "execution_count": 109,
     "metadata": {},
     "output_type": "execute_result"
    }
   ],
   "source": [
    "df_original = df_original.dropna().reset_index()\n",
    "df_original"
   ],
   "metadata": {
    "collapsed": false
   }
  },
  {
   "cell_type": "code",
   "execution_count": 118,
   "outputs": [
    {
     "data": {
      "text/plain": "      level_0  index  usableAreas  totalAreas  suites  bathrooms  bedrooms  \\\n0           0      0           77        90.0     1.0          2         3   \n1           1      3           93       106.0     1.0          2         3   \n2           2      7           88       146.0     1.0          2         3   \n3           3     16           78       130.0     1.0          2         3   \n4           4     23           94       168.0     1.0          2         3   \n...       ...    ...          ...         ...     ...        ...       ...   \n9170     9170  18728          126       240.0     2.0          2         2   \n9171     9171  18741          132        10.0     1.0          3         3   \n9172     9172  18742          132        10.0     1.0          3         3   \n9173     9173  18751          274       375.0     2.0          3         4   \n9174     9174  18758          372       700.0     4.0          6         4   \n\n      parkingSpaces                                          amenities  \\\n0               1.0  [BARBECUE_GRILL, ELEVATOR, GATED_COMMUNITY, GY...   \n1               2.0  [POOL, FURNISHED, BARBECUE_GRILL, ELEVATOR, GA...   \n2               1.0  [BARBECUE_GRILL, ELEVATOR, PLAYGROUND, PARTY_H...   \n3               2.0  [POOL, FURNISHED, BARBECUE_GRILL, ELEVATOR, GA...   \n4               2.0  [FURNISHED, BARBECUE_GRILL, ELEVATOR, GATED_CO...   \n...             ...                                                ...   \n9170            2.0  [POOL, BARBECUE_GRILL, ELEVATOR, BALCONY, AIR_...   \n9171            1.0                                                 []   \n9172            1.0                                                 []   \n9173            2.0                          [KITCHEN, BARBECUE_GRILL]   \n9174            5.0                                             [POOL]   \n\n                                            description  \\\n0     Apartamento com 3 dormitórios, sendo uma suíte...   \n1     Apartamento Residencial com 70m2 interno total...   \n2     Apartamento impecável, direto com o proprietár...   \n3     Excelente apartamento no 19º (Último andar) do...   \n4     Apartamento 3Q mobiliado, pronto para morar, n...   \n...                                                 ...   \n9170  CASA MILANO LANÇAMENTO<br>Empreendimento de al...   \n9171  Apartamento à Venda, 132m² por R$ 499.500. Big...   \n9172  Apartamento à Venda, 132m² por R$ 499.500. Big...   \n9173  Apartamento Duplex à Venda, 274m² por R$ 1.100...   \n9174  O Vigo, é um empreendimento longe do comum, do...   \n\n                                                  title   zipCode        lon  \\\n0     Apartamento para venda tem 77 metros quadrados...  82540130 -49.249319   \n1     Apartamento Mobiliado de Porteira Fechada incl...  81210310 -49.335318   \n2     Apartamento para venda possui 88 metros quadra...  82510000 -49.244942   \n3     Apartamento para venda com 78 metros quadrados...  81130020 -49.296779   \n4     Apartamento para venda possui 94 metros quadra...  80620230 -49.284776   \n...                                                 ...       ...        ...   \n9170             Apartamento - Bigorrilho - Curitiba/PR  80730030 -49.304550   \n9171  Apartamento à venda 3 Quartos, 1 Suite, 1 Vaga...  80730440 -49.291627   \n9172  Apartamento à venda 3 Quartos, 1 Suite, 1 Vaga...  80730440 -49.291627   \n9173  Apartamento Duplex à venda 4 quartos 2 suítes ...  80730030 -49.291830   \n9174  APARTAMENTO com 4 dormitórios à venda com 700....  80730180 -49.289262   \n\n            lat                        street    neighborhood  \\\n0    -25.394261   Rua Nossa Senhora de Nazaré       Boa Vista   \n1    -25.442254  Rua Jeremias Maciel Perretto  Campo Comprido   \n2    -25.398545                Avenida Paraná       Bacacheri   \n3    -25.499005   Rua José Clementino Bettega      Capão Raso   \n4    -25.459128  Rua Monsenhor Manoel Vicente      Água Verde   \n...         ...                           ...             ...   \n9170 -25.436016             Rua Martim Afonso      Bigorrilho   \n9171 -25.431297      Avenida Cândido Hartmann          Mercês   \n9172 -25.431297      Avenida Cândido Hartmann          Mercês   \n9173 -25.431390             Rua Martim Afonso      Bigorrilho   \n9174 -25.435242          Rua Saldanha Marinho      Bigorrilho   \n\n                                               poisList  yearlyIptu  \\\n0     ['BS:Estação Tubo Holanda', 'BS:Estação-tubo G...       700.0   \n1     ['BS:Estação-tubo Mossunguê', 'BS:Mossunguê', ...       400.0   \n2     ['BS:Estação Tubo Holanda', 'BS:Estação-tubo G...      1000.0   \n3     ['BS:Estação-tubo José Bettega', 'BS:Estação S...       980.0   \n4     ['BS:Largo Ciro Silva', 'BS:Estação tubo Dom P...       100.0   \n...                                                 ...         ...   \n9170  ['BS:Estação-tubo Gastão Câmara', 'BS:Estação-...         0.0   \n9171  ['BS:Estação-tubo Praça da Ucrânia', 'BS:Estaç...       140.0   \n9172  ['BS:Estação-tubo Praça da Ucrânia', 'BS:Estaç...       140.0   \n9173  ['BS:Estação-tubo Praça da Ucrânia', 'BS:Estaç...       190.0   \n9174  ['BS:Estação-tubo Praça da Ucrânia', 'BS:Estaç...         0.0   \n\n      monthlyCondoFee    price  \n0               400.0   595000  \n1               600.0   610000  \n2               800.0   495000  \n3               700.0   649900  \n4               530.0   680000  \n...               ...      ...  \n9170              0.0  1300000  \n9171            375.0   499500  \n9172            375.0   499500  \n9173           1644.0  1100000  \n9174              0.0  5901000  \n\n[9175 rows x 20 columns]",
      "text/html": "<div>\n<style scoped>\n    .dataframe tbody tr th:only-of-type {\n        vertical-align: middle;\n    }\n\n    .dataframe tbody tr th {\n        vertical-align: top;\n    }\n\n    .dataframe thead th {\n        text-align: right;\n    }\n</style>\n<table border=\"1\" class=\"dataframe\">\n  <thead>\n    <tr style=\"text-align: right;\">\n      <th></th>\n      <th>level_0</th>\n      <th>index</th>\n      <th>usableAreas</th>\n      <th>totalAreas</th>\n      <th>suites</th>\n      <th>bathrooms</th>\n      <th>bedrooms</th>\n      <th>parkingSpaces</th>\n      <th>amenities</th>\n      <th>description</th>\n      <th>title</th>\n      <th>zipCode</th>\n      <th>lon</th>\n      <th>lat</th>\n      <th>street</th>\n      <th>neighborhood</th>\n      <th>poisList</th>\n      <th>yearlyIptu</th>\n      <th>monthlyCondoFee</th>\n      <th>price</th>\n    </tr>\n  </thead>\n  <tbody>\n    <tr>\n      <th>0</th>\n      <td>0</td>\n      <td>0</td>\n      <td>77</td>\n      <td>90.0</td>\n      <td>1.0</td>\n      <td>2</td>\n      <td>3</td>\n      <td>1.0</td>\n      <td>[BARBECUE_GRILL, ELEVATOR, GATED_COMMUNITY, GY...</td>\n      <td>Apartamento com 3 dormitórios, sendo uma suíte...</td>\n      <td>Apartamento para venda tem 77 metros quadrados...</td>\n      <td>82540130</td>\n      <td>-49.249319</td>\n      <td>-25.394261</td>\n      <td>Rua Nossa Senhora de Nazaré</td>\n      <td>Boa Vista</td>\n      <td>['BS:Estação Tubo Holanda', 'BS:Estação-tubo G...</td>\n      <td>700.0</td>\n      <td>400.0</td>\n      <td>595000</td>\n    </tr>\n    <tr>\n      <th>1</th>\n      <td>1</td>\n      <td>3</td>\n      <td>93</td>\n      <td>106.0</td>\n      <td>1.0</td>\n      <td>2</td>\n      <td>3</td>\n      <td>2.0</td>\n      <td>[POOL, FURNISHED, BARBECUE_GRILL, ELEVATOR, GA...</td>\n      <td>Apartamento Residencial com 70m2 interno total...</td>\n      <td>Apartamento Mobiliado de Porteira Fechada incl...</td>\n      <td>81210310</td>\n      <td>-49.335318</td>\n      <td>-25.442254</td>\n      <td>Rua Jeremias Maciel Perretto</td>\n      <td>Campo Comprido</td>\n      <td>['BS:Estação-tubo Mossunguê', 'BS:Mossunguê', ...</td>\n      <td>400.0</td>\n      <td>600.0</td>\n      <td>610000</td>\n    </tr>\n    <tr>\n      <th>2</th>\n      <td>2</td>\n      <td>7</td>\n      <td>88</td>\n      <td>146.0</td>\n      <td>1.0</td>\n      <td>2</td>\n      <td>3</td>\n      <td>1.0</td>\n      <td>[BARBECUE_GRILL, ELEVATOR, PLAYGROUND, PARTY_H...</td>\n      <td>Apartamento impecável, direto com o proprietár...</td>\n      <td>Apartamento para venda possui 88 metros quadra...</td>\n      <td>82510000</td>\n      <td>-49.244942</td>\n      <td>-25.398545</td>\n      <td>Avenida Paraná</td>\n      <td>Bacacheri</td>\n      <td>['BS:Estação Tubo Holanda', 'BS:Estação-tubo G...</td>\n      <td>1000.0</td>\n      <td>800.0</td>\n      <td>495000</td>\n    </tr>\n    <tr>\n      <th>3</th>\n      <td>3</td>\n      <td>16</td>\n      <td>78</td>\n      <td>130.0</td>\n      <td>1.0</td>\n      <td>2</td>\n      <td>3</td>\n      <td>2.0</td>\n      <td>[POOL, FURNISHED, BARBECUE_GRILL, ELEVATOR, GA...</td>\n      <td>Excelente apartamento no 19º (Último andar) do...</td>\n      <td>Apartamento para venda com 78 metros quadrados...</td>\n      <td>81130020</td>\n      <td>-49.296779</td>\n      <td>-25.499005</td>\n      <td>Rua José Clementino Bettega</td>\n      <td>Capão Raso</td>\n      <td>['BS:Estação-tubo José Bettega', 'BS:Estação S...</td>\n      <td>980.0</td>\n      <td>700.0</td>\n      <td>649900</td>\n    </tr>\n    <tr>\n      <th>4</th>\n      <td>4</td>\n      <td>23</td>\n      <td>94</td>\n      <td>168.0</td>\n      <td>1.0</td>\n      <td>2</td>\n      <td>3</td>\n      <td>2.0</td>\n      <td>[FURNISHED, BARBECUE_GRILL, ELEVATOR, GATED_CO...</td>\n      <td>Apartamento 3Q mobiliado, pronto para morar, n...</td>\n      <td>Apartamento para venda possui 94 metros quadra...</td>\n      <td>80620230</td>\n      <td>-49.284776</td>\n      <td>-25.459128</td>\n      <td>Rua Monsenhor Manoel Vicente</td>\n      <td>Água Verde</td>\n      <td>['BS:Largo Ciro Silva', 'BS:Estação tubo Dom P...</td>\n      <td>100.0</td>\n      <td>530.0</td>\n      <td>680000</td>\n    </tr>\n    <tr>\n      <th>...</th>\n      <td>...</td>\n      <td>...</td>\n      <td>...</td>\n      <td>...</td>\n      <td>...</td>\n      <td>...</td>\n      <td>...</td>\n      <td>...</td>\n      <td>...</td>\n      <td>...</td>\n      <td>...</td>\n      <td>...</td>\n      <td>...</td>\n      <td>...</td>\n      <td>...</td>\n      <td>...</td>\n      <td>...</td>\n      <td>...</td>\n      <td>...</td>\n      <td>...</td>\n    </tr>\n    <tr>\n      <th>9170</th>\n      <td>9170</td>\n      <td>18728</td>\n      <td>126</td>\n      <td>240.0</td>\n      <td>2.0</td>\n      <td>2</td>\n      <td>2</td>\n      <td>2.0</td>\n      <td>[POOL, BARBECUE_GRILL, ELEVATOR, BALCONY, AIR_...</td>\n      <td>CASA MILANO LANÇAMENTO&lt;br&gt;Empreendimento de al...</td>\n      <td>Apartamento - Bigorrilho - Curitiba/PR</td>\n      <td>80730030</td>\n      <td>-49.304550</td>\n      <td>-25.436016</td>\n      <td>Rua Martim Afonso</td>\n      <td>Bigorrilho</td>\n      <td>['BS:Estação-tubo Gastão Câmara', 'BS:Estação-...</td>\n      <td>0.0</td>\n      <td>0.0</td>\n      <td>1300000</td>\n    </tr>\n    <tr>\n      <th>9171</th>\n      <td>9171</td>\n      <td>18741</td>\n      <td>132</td>\n      <td>10.0</td>\n      <td>1.0</td>\n      <td>3</td>\n      <td>3</td>\n      <td>1.0</td>\n      <td>[]</td>\n      <td>Apartamento à Venda, 132m² por R$ 499.500. Big...</td>\n      <td>Apartamento à venda 3 Quartos, 1 Suite, 1 Vaga...</td>\n      <td>80730440</td>\n      <td>-49.291627</td>\n      <td>-25.431297</td>\n      <td>Avenida Cândido Hartmann</td>\n      <td>Mercês</td>\n      <td>['BS:Estação-tubo Praça da Ucrânia', 'BS:Estaç...</td>\n      <td>140.0</td>\n      <td>375.0</td>\n      <td>499500</td>\n    </tr>\n    <tr>\n      <th>9172</th>\n      <td>9172</td>\n      <td>18742</td>\n      <td>132</td>\n      <td>10.0</td>\n      <td>1.0</td>\n      <td>3</td>\n      <td>3</td>\n      <td>1.0</td>\n      <td>[]</td>\n      <td>Apartamento à Venda, 132m² por R$ 499.500. Big...</td>\n      <td>Apartamento à venda 3 Quartos, 1 Suite, 1 Vaga...</td>\n      <td>80730440</td>\n      <td>-49.291627</td>\n      <td>-25.431297</td>\n      <td>Avenida Cândido Hartmann</td>\n      <td>Mercês</td>\n      <td>['BS:Estação-tubo Praça da Ucrânia', 'BS:Estaç...</td>\n      <td>140.0</td>\n      <td>375.0</td>\n      <td>499500</td>\n    </tr>\n    <tr>\n      <th>9173</th>\n      <td>9173</td>\n      <td>18751</td>\n      <td>274</td>\n      <td>375.0</td>\n      <td>2.0</td>\n      <td>3</td>\n      <td>4</td>\n      <td>2.0</td>\n      <td>[KITCHEN, BARBECUE_GRILL]</td>\n      <td>Apartamento Duplex à Venda, 274m² por R$ 1.100...</td>\n      <td>Apartamento Duplex à venda 4 quartos 2 suítes ...</td>\n      <td>80730030</td>\n      <td>-49.291830</td>\n      <td>-25.431390</td>\n      <td>Rua Martim Afonso</td>\n      <td>Bigorrilho</td>\n      <td>['BS:Estação-tubo Praça da Ucrânia', 'BS:Estaç...</td>\n      <td>190.0</td>\n      <td>1644.0</td>\n      <td>1100000</td>\n    </tr>\n    <tr>\n      <th>9174</th>\n      <td>9174</td>\n      <td>18758</td>\n      <td>372</td>\n      <td>700.0</td>\n      <td>4.0</td>\n      <td>6</td>\n      <td>4</td>\n      <td>5.0</td>\n      <td>[POOL]</td>\n      <td>O Vigo, é um empreendimento longe do comum, do...</td>\n      <td>APARTAMENTO com 4 dormitórios à venda com 700....</td>\n      <td>80730180</td>\n      <td>-49.289262</td>\n      <td>-25.435242</td>\n      <td>Rua Saldanha Marinho</td>\n      <td>Bigorrilho</td>\n      <td>['BS:Estação-tubo Praça da Ucrânia', 'BS:Estaç...</td>\n      <td>0.0</td>\n      <td>0.0</td>\n      <td>5901000</td>\n    </tr>\n  </tbody>\n</table>\n<p>9175 rows × 20 columns</p>\n</div>"
     },
     "execution_count": 118,
     "metadata": {},
     "output_type": "execute_result"
    }
   ],
   "source": [
    "df_original['amenities'] = df_original['amenities'].apply(lambda x: x.strip(\"[]\").replace(\"'\", \"\").split(\", \"))\n",
    "df_original"
   ],
   "metadata": {
    "collapsed": false
   }
  },
  {
   "cell_type": "code",
   "execution_count": 122,
   "outputs": [
    {
     "name": "stderr",
     "output_type": "stream",
     "text": [
      "100%|██████████| 9175/9175 [03:42<00:00, 41.19it/s] \n"
     ]
    }
   ],
   "source": [
    "for indice, linha in tqdm(df_original.iterrows(), total=df_original.shape[0]):\n",
    "    for valor in list(linha['amenities']):\n",
    "        df_original.loc[indice, linha['amenities']] = True"
   ],
   "metadata": {
    "collapsed": false
   }
  },
  {
   "cell_type": "code",
   "execution_count": 125,
   "outputs": [],
   "source": [
    "df_original.fillna(False, inplace=True)"
   ],
   "metadata": {
    "collapsed": false
   }
  },
  {
   "cell_type": "code",
   "execution_count": 126,
   "outputs": [
    {
     "data": {
      "text/plain": "      level_0  index  usableAreas  totalAreas  suites  bathrooms  bedrooms  \\\n0           0      0           77        90.0     1.0          2         3   \n1           1      3           93       106.0     1.0          2         3   \n2           2      7           88       146.0     1.0          2         3   \n3           3     16           78       130.0     1.0          2         3   \n4           4     23           94       168.0     1.0          2         3   \n...       ...    ...          ...         ...     ...        ...       ...   \n9170     9170  18728          126       240.0     2.0          2         2   \n9171     9171  18741          132        10.0     1.0          3         3   \n9172     9172  18742          132        10.0     1.0          3         3   \n9173     9173  18751          274       375.0     2.0          3         4   \n9174     9174  18758          372       700.0     4.0          6         4   \n\n      parkingSpaces                                          amenities  \\\n0               1.0  [BARBECUE_GRILL, ELEVATOR, GATED_COMMUNITY, GY...   \n1               2.0  [POOL, FURNISHED, BARBECUE_GRILL, ELEVATOR, GA...   \n2               1.0  [BARBECUE_GRILL, ELEVATOR, PLAYGROUND, PARTY_H...   \n3               2.0  [POOL, FURNISHED, BARBECUE_GRILL, ELEVATOR, GA...   \n4               2.0  [FURNISHED, BARBECUE_GRILL, ELEVATOR, GATED_CO...   \n...             ...                                                ...   \n9170            2.0  [POOL, BARBECUE_GRILL, ELEVATOR, BALCONY, AIR_...   \n9171            1.0                                                 []   \n9172            1.0                                                 []   \n9173            2.0                          [KITCHEN, BARBECUE_GRILL]   \n9174            5.0                                             [POOL]   \n\n                                            description  ...  \\\n0     Apartamento com 3 dormitórios, sendo uma suíte...  ...   \n1     Apartamento Residencial com 70m2 interno total...  ...   \n2     Apartamento impecável, direto com o proprietár...  ...   \n3     Excelente apartamento no 19º (Último andar) do...  ...   \n4     Apartamento 3Q mobiliado, pronto para morar, n...  ...   \n...                                                 ...  ...   \n9170  CASA MILANO LANÇAMENTO<br>Empreendimento de al...  ...   \n9171  Apartamento à Venda, 132m² por R$ 499.500. Big...  ...   \n9172  Apartamento à Venda, 132m² por R$ 499.500. Big...  ...   \n9173  Apartamento Duplex à Venda, 274m² por R$ 1.100...  ...   \n9174  O Vigo, é um empreendimento longe do comum, do...  ...   \n\n     NEAR_ACCESS_ROADS  NEAR_PUBLIC_TRANSPORT  ESSENTIAL_PUBLIC_SERVICES  \\\n0                False                  False                      False   \n1                False                  False                      False   \n2                False                  False                      False   \n3                False                  False                      False   \n4                False                  False                      False   \n...                ...                    ...                        ...   \n9170             False                  False                      False   \n9171             False                  False                      False   \n9172             False                  False                      False   \n9173             False                  False                      False   \n9174             False                  False                      False   \n\n      SMALL_ROOM YOUTH_GAME_ROOM HOT_TUB PLAYGROUND_2  CARPET  GLASS_WALL  \\\n0          False           False   False        False   False       False   \n1          False           False   False        False   False       False   \n2          False           False   False        False   False       False   \n3          False           False   False        False   False       False   \n4          False           False   False        False   False       False   \n...          ...             ...     ...          ...     ...         ...   \n9170       False           False   False        False   False       False   \n9171       False           False   False        False   False       False   \n9172       False           False   False        False   False       False   \n9173       False           False   False        False   False       False   \n9174       False           False   False        False   False       False   \n\n      FULL_CABLING  \n0            False  \n1            False  \n2            False  \n3            False  \n4            False  \n...            ...  \n9170         False  \n9171         False  \n9172         False  \n9173         False  \n9174         False  \n\n[9175 rows x 187 columns]",
      "text/html": "<div>\n<style scoped>\n    .dataframe tbody tr th:only-of-type {\n        vertical-align: middle;\n    }\n\n    .dataframe tbody tr th {\n        vertical-align: top;\n    }\n\n    .dataframe thead th {\n        text-align: right;\n    }\n</style>\n<table border=\"1\" class=\"dataframe\">\n  <thead>\n    <tr style=\"text-align: right;\">\n      <th></th>\n      <th>level_0</th>\n      <th>index</th>\n      <th>usableAreas</th>\n      <th>totalAreas</th>\n      <th>suites</th>\n      <th>bathrooms</th>\n      <th>bedrooms</th>\n      <th>parkingSpaces</th>\n      <th>amenities</th>\n      <th>description</th>\n      <th>...</th>\n      <th>NEAR_ACCESS_ROADS</th>\n      <th>NEAR_PUBLIC_TRANSPORT</th>\n      <th>ESSENTIAL_PUBLIC_SERVICES</th>\n      <th>SMALL_ROOM</th>\n      <th>YOUTH_GAME_ROOM</th>\n      <th>HOT_TUB</th>\n      <th>PLAYGROUND_2</th>\n      <th>CARPET</th>\n      <th>GLASS_WALL</th>\n      <th>FULL_CABLING</th>\n    </tr>\n  </thead>\n  <tbody>\n    <tr>\n      <th>0</th>\n      <td>0</td>\n      <td>0</td>\n      <td>77</td>\n      <td>90.0</td>\n      <td>1.0</td>\n      <td>2</td>\n      <td>3</td>\n      <td>1.0</td>\n      <td>[BARBECUE_GRILL, ELEVATOR, GATED_COMMUNITY, GY...</td>\n      <td>Apartamento com 3 dormitórios, sendo uma suíte...</td>\n      <td>...</td>\n      <td>False</td>\n      <td>False</td>\n      <td>False</td>\n      <td>False</td>\n      <td>False</td>\n      <td>False</td>\n      <td>False</td>\n      <td>False</td>\n      <td>False</td>\n      <td>False</td>\n    </tr>\n    <tr>\n      <th>1</th>\n      <td>1</td>\n      <td>3</td>\n      <td>93</td>\n      <td>106.0</td>\n      <td>1.0</td>\n      <td>2</td>\n      <td>3</td>\n      <td>2.0</td>\n      <td>[POOL, FURNISHED, BARBECUE_GRILL, ELEVATOR, GA...</td>\n      <td>Apartamento Residencial com 70m2 interno total...</td>\n      <td>...</td>\n      <td>False</td>\n      <td>False</td>\n      <td>False</td>\n      <td>False</td>\n      <td>False</td>\n      <td>False</td>\n      <td>False</td>\n      <td>False</td>\n      <td>False</td>\n      <td>False</td>\n    </tr>\n    <tr>\n      <th>2</th>\n      <td>2</td>\n      <td>7</td>\n      <td>88</td>\n      <td>146.0</td>\n      <td>1.0</td>\n      <td>2</td>\n      <td>3</td>\n      <td>1.0</td>\n      <td>[BARBECUE_GRILL, ELEVATOR, PLAYGROUND, PARTY_H...</td>\n      <td>Apartamento impecável, direto com o proprietár...</td>\n      <td>...</td>\n      <td>False</td>\n      <td>False</td>\n      <td>False</td>\n      <td>False</td>\n      <td>False</td>\n      <td>False</td>\n      <td>False</td>\n      <td>False</td>\n      <td>False</td>\n      <td>False</td>\n    </tr>\n    <tr>\n      <th>3</th>\n      <td>3</td>\n      <td>16</td>\n      <td>78</td>\n      <td>130.0</td>\n      <td>1.0</td>\n      <td>2</td>\n      <td>3</td>\n      <td>2.0</td>\n      <td>[POOL, FURNISHED, BARBECUE_GRILL, ELEVATOR, GA...</td>\n      <td>Excelente apartamento no 19º (Último andar) do...</td>\n      <td>...</td>\n      <td>False</td>\n      <td>False</td>\n      <td>False</td>\n      <td>False</td>\n      <td>False</td>\n      <td>False</td>\n      <td>False</td>\n      <td>False</td>\n      <td>False</td>\n      <td>False</td>\n    </tr>\n    <tr>\n      <th>4</th>\n      <td>4</td>\n      <td>23</td>\n      <td>94</td>\n      <td>168.0</td>\n      <td>1.0</td>\n      <td>2</td>\n      <td>3</td>\n      <td>2.0</td>\n      <td>[FURNISHED, BARBECUE_GRILL, ELEVATOR, GATED_CO...</td>\n      <td>Apartamento 3Q mobiliado, pronto para morar, n...</td>\n      <td>...</td>\n      <td>False</td>\n      <td>False</td>\n      <td>False</td>\n      <td>False</td>\n      <td>False</td>\n      <td>False</td>\n      <td>False</td>\n      <td>False</td>\n      <td>False</td>\n      <td>False</td>\n    </tr>\n    <tr>\n      <th>...</th>\n      <td>...</td>\n      <td>...</td>\n      <td>...</td>\n      <td>...</td>\n      <td>...</td>\n      <td>...</td>\n      <td>...</td>\n      <td>...</td>\n      <td>...</td>\n      <td>...</td>\n      <td>...</td>\n      <td>...</td>\n      <td>...</td>\n      <td>...</td>\n      <td>...</td>\n      <td>...</td>\n      <td>...</td>\n      <td>...</td>\n      <td>...</td>\n      <td>...</td>\n      <td>...</td>\n    </tr>\n    <tr>\n      <th>9170</th>\n      <td>9170</td>\n      <td>18728</td>\n      <td>126</td>\n      <td>240.0</td>\n      <td>2.0</td>\n      <td>2</td>\n      <td>2</td>\n      <td>2.0</td>\n      <td>[POOL, BARBECUE_GRILL, ELEVATOR, BALCONY, AIR_...</td>\n      <td>CASA MILANO LANÇAMENTO&lt;br&gt;Empreendimento de al...</td>\n      <td>...</td>\n      <td>False</td>\n      <td>False</td>\n      <td>False</td>\n      <td>False</td>\n      <td>False</td>\n      <td>False</td>\n      <td>False</td>\n      <td>False</td>\n      <td>False</td>\n      <td>False</td>\n    </tr>\n    <tr>\n      <th>9171</th>\n      <td>9171</td>\n      <td>18741</td>\n      <td>132</td>\n      <td>10.0</td>\n      <td>1.0</td>\n      <td>3</td>\n      <td>3</td>\n      <td>1.0</td>\n      <td>[]</td>\n      <td>Apartamento à Venda, 132m² por R$ 499.500. Big...</td>\n      <td>...</td>\n      <td>False</td>\n      <td>False</td>\n      <td>False</td>\n      <td>False</td>\n      <td>False</td>\n      <td>False</td>\n      <td>False</td>\n      <td>False</td>\n      <td>False</td>\n      <td>False</td>\n    </tr>\n    <tr>\n      <th>9172</th>\n      <td>9172</td>\n      <td>18742</td>\n      <td>132</td>\n      <td>10.0</td>\n      <td>1.0</td>\n      <td>3</td>\n      <td>3</td>\n      <td>1.0</td>\n      <td>[]</td>\n      <td>Apartamento à Venda, 132m² por R$ 499.500. Big...</td>\n      <td>...</td>\n      <td>False</td>\n      <td>False</td>\n      <td>False</td>\n      <td>False</td>\n      <td>False</td>\n      <td>False</td>\n      <td>False</td>\n      <td>False</td>\n      <td>False</td>\n      <td>False</td>\n    </tr>\n    <tr>\n      <th>9173</th>\n      <td>9173</td>\n      <td>18751</td>\n      <td>274</td>\n      <td>375.0</td>\n      <td>2.0</td>\n      <td>3</td>\n      <td>4</td>\n      <td>2.0</td>\n      <td>[KITCHEN, BARBECUE_GRILL]</td>\n      <td>Apartamento Duplex à Venda, 274m² por R$ 1.100...</td>\n      <td>...</td>\n      <td>False</td>\n      <td>False</td>\n      <td>False</td>\n      <td>False</td>\n      <td>False</td>\n      <td>False</td>\n      <td>False</td>\n      <td>False</td>\n      <td>False</td>\n      <td>False</td>\n    </tr>\n    <tr>\n      <th>9174</th>\n      <td>9174</td>\n      <td>18758</td>\n      <td>372</td>\n      <td>700.0</td>\n      <td>4.0</td>\n      <td>6</td>\n      <td>4</td>\n      <td>5.0</td>\n      <td>[POOL]</td>\n      <td>O Vigo, é um empreendimento longe do comum, do...</td>\n      <td>...</td>\n      <td>False</td>\n      <td>False</td>\n      <td>False</td>\n      <td>False</td>\n      <td>False</td>\n      <td>False</td>\n      <td>False</td>\n      <td>False</td>\n      <td>False</td>\n      <td>False</td>\n    </tr>\n  </tbody>\n</table>\n<p>9175 rows × 187 columns</p>\n</div>"
     },
     "execution_count": 126,
     "metadata": {},
     "output_type": "execute_result"
    }
   ],
   "source": [
    "df_original"
   ],
   "metadata": {
    "collapsed": false
   }
  },
  {
   "cell_type": "code",
   "execution_count": 127,
   "outputs": [],
   "source": [
    "df_original.to_csv('../data/processed/dados_completos.csv')"
   ],
   "metadata": {
    "collapsed": false
   }
  }
 ],
 "metadata": {
  "kernelspec": {
   "display_name": "Python 3",
   "language": "python",
   "name": "python3"
  },
  "language_info": {
   "codemirror_mode": {
    "name": "ipython",
    "version": 2
   },
   "file_extension": ".py",
   "mimetype": "text/x-python",
   "name": "python",
   "nbconvert_exporter": "python",
   "pygments_lexer": "ipython2",
   "version": "2.7.6"
  }
 },
 "nbformat": 4,
 "nbformat_minor": 0
}
