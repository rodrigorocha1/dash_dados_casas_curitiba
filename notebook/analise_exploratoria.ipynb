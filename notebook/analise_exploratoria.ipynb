{
 "cells": [
  {
   "cell_type": "code",
   "execution_count": 1,
   "metadata": {
    "collapsed": true
   },
   "outputs": [],
   "source": [
    "import pandas as pd"
   ]
  },
  {
   "cell_type": "code",
   "execution_count": 4,
   "outputs": [],
   "source": [
    "df_original = pd.read_csv('../data/raw/curitiba_apartment_real_estate_data.csv')"
   ],
   "metadata": {
    "collapsed": false
   }
  },
  {
   "cell_type": "code",
   "execution_count": 5,
   "outputs": [
    {
     "data": {
      "text/plain": "   usableAreas  totalAreas  suites  bathrooms  bedrooms  parkingSpaces  \\\n0           77        90.0     1.0          2         3            1.0   \n1           53        53.0     NaN          1         3            1.0   \n2          113         NaN     1.0          4         3            2.0   \n3           93       106.0     1.0          2         3            2.0   \n4           66         NaN     1.0          2         3            1.0   \n\n                                           amenities  \\\n0  ['BARBECUE_GRILL', 'ELEVATOR', 'GATED_COMMUNIT...   \n1  ['BARBECUE_GRILL', 'GATED_COMMUNITY', 'GYM', '...   \n2  ['POOL', 'BARBECUE_GRILL', 'ELEVATOR', 'GATED_...   \n3  ['POOL', 'FURNISHED', 'BARBECUE_GRILL', 'ELEVA...   \n4  ['BARBECUE_GRILL', 'GATED_COMMUNITY', 'PETS_AL...   \n\n                                         description  \\\n0  Apartamento com 3 dormitórios, sendo uma suíte...   \n1  Apartamento ensolarado e com linda vista pro P...   \n2  22º andar, face Norte, linda vista para a Serr...   \n3  Apartamento Residencial com 70m2 interno total...   \n4  Excelente apto garden com 66m² de área útil em...   \n\n                                               title   zipCode        lon  \\\n0  Apartamento para venda tem 77 metros quadrados...  82540130 -49.249319   \n1  Apartamento ensolarado com 3 quartos ao lado d...  81320180 -49.326716   \n2  Apt para venda no Cond. Botânica: 113 m² com 3...  80050470 -49.239110   \n3  Apartamento Mobiliado de Porteira Fechada incl...  81210310 -49.335318   \n4                   Apartamento Novo Mundo 66m² útil  81050150 -49.304465   \n\n         lat                              street    neighborhood  \\\n0 -25.394261         Rua Nossa Senhora de Nazaré       Boa Vista   \n1 -25.474533              Rua Alfredo José Pinto      Fazendinha   \n2 -25.437162  Rua Coronel Pedro Scherer Sobrinho      Cristo Rei   \n3 -25.442254        Rua Jeremias Maciel Perretto  Campo Comprido   \n4 -25.492857      Rua Deputado Waldemiro Pedroso      Novo Mundo   \n\n                                            poisList  yearlyIptu  \\\n0  ['BS:Estação Tubo Holanda', 'BS:Estação-tubo G...       700.0   \n1  ['BS:Rua José Gonçalves Júnior, 182', 'BS:Rua ...         NaN   \n2  ['BS:Estação Hospital Cajuru', 'BS:Linha Turis...       240.0   \n3  ['BS:Estação-tubo Mossunguê', 'BS:Mossunguê', ...       400.0   \n4  ['BS:Ponto - 672 Formosa', 'BS:Ponto - 615 Ube...         NaN   \n\n   monthlyCondoFee    price  \n0            400.0   595000  \n1            392.0   185000  \n2            550.0  1220000  \n3            600.0   610000  \n4              NaN   269990  ",
      "text/html": "<div>\n<style scoped>\n    .dataframe tbody tr th:only-of-type {\n        vertical-align: middle;\n    }\n\n    .dataframe tbody tr th {\n        vertical-align: top;\n    }\n\n    .dataframe thead th {\n        text-align: right;\n    }\n</style>\n<table border=\"1\" class=\"dataframe\">\n  <thead>\n    <tr style=\"text-align: right;\">\n      <th></th>\n      <th>usableAreas</th>\n      <th>totalAreas</th>\n      <th>suites</th>\n      <th>bathrooms</th>\n      <th>bedrooms</th>\n      <th>parkingSpaces</th>\n      <th>amenities</th>\n      <th>description</th>\n      <th>title</th>\n      <th>zipCode</th>\n      <th>lon</th>\n      <th>lat</th>\n      <th>street</th>\n      <th>neighborhood</th>\n      <th>poisList</th>\n      <th>yearlyIptu</th>\n      <th>monthlyCondoFee</th>\n      <th>price</th>\n    </tr>\n  </thead>\n  <tbody>\n    <tr>\n      <th>0</th>\n      <td>77</td>\n      <td>90.0</td>\n      <td>1.0</td>\n      <td>2</td>\n      <td>3</td>\n      <td>1.0</td>\n      <td>['BARBECUE_GRILL', 'ELEVATOR', 'GATED_COMMUNIT...</td>\n      <td>Apartamento com 3 dormitórios, sendo uma suíte...</td>\n      <td>Apartamento para venda tem 77 metros quadrados...</td>\n      <td>82540130</td>\n      <td>-49.249319</td>\n      <td>-25.394261</td>\n      <td>Rua Nossa Senhora de Nazaré</td>\n      <td>Boa Vista</td>\n      <td>['BS:Estação Tubo Holanda', 'BS:Estação-tubo G...</td>\n      <td>700.0</td>\n      <td>400.0</td>\n      <td>595000</td>\n    </tr>\n    <tr>\n      <th>1</th>\n      <td>53</td>\n      <td>53.0</td>\n      <td>NaN</td>\n      <td>1</td>\n      <td>3</td>\n      <td>1.0</td>\n      <td>['BARBECUE_GRILL', 'GATED_COMMUNITY', 'GYM', '...</td>\n      <td>Apartamento ensolarado e com linda vista pro P...</td>\n      <td>Apartamento ensolarado com 3 quartos ao lado d...</td>\n      <td>81320180</td>\n      <td>-49.326716</td>\n      <td>-25.474533</td>\n      <td>Rua Alfredo José Pinto</td>\n      <td>Fazendinha</td>\n      <td>['BS:Rua José Gonçalves Júnior, 182', 'BS:Rua ...</td>\n      <td>NaN</td>\n      <td>392.0</td>\n      <td>185000</td>\n    </tr>\n    <tr>\n      <th>2</th>\n      <td>113</td>\n      <td>NaN</td>\n      <td>1.0</td>\n      <td>4</td>\n      <td>3</td>\n      <td>2.0</td>\n      <td>['POOL', 'BARBECUE_GRILL', 'ELEVATOR', 'GATED_...</td>\n      <td>22º andar, face Norte, linda vista para a Serr...</td>\n      <td>Apt para venda no Cond. Botânica: 113 m² com 3...</td>\n      <td>80050470</td>\n      <td>-49.239110</td>\n      <td>-25.437162</td>\n      <td>Rua Coronel Pedro Scherer Sobrinho</td>\n      <td>Cristo Rei</td>\n      <td>['BS:Estação Hospital Cajuru', 'BS:Linha Turis...</td>\n      <td>240.0</td>\n      <td>550.0</td>\n      <td>1220000</td>\n    </tr>\n    <tr>\n      <th>3</th>\n      <td>93</td>\n      <td>106.0</td>\n      <td>1.0</td>\n      <td>2</td>\n      <td>3</td>\n      <td>2.0</td>\n      <td>['POOL', 'FURNISHED', 'BARBECUE_GRILL', 'ELEVA...</td>\n      <td>Apartamento Residencial com 70m2 interno total...</td>\n      <td>Apartamento Mobiliado de Porteira Fechada incl...</td>\n      <td>81210310</td>\n      <td>-49.335318</td>\n      <td>-25.442254</td>\n      <td>Rua Jeremias Maciel Perretto</td>\n      <td>Campo Comprido</td>\n      <td>['BS:Estação-tubo Mossunguê', 'BS:Mossunguê', ...</td>\n      <td>400.0</td>\n      <td>600.0</td>\n      <td>610000</td>\n    </tr>\n    <tr>\n      <th>4</th>\n      <td>66</td>\n      <td>NaN</td>\n      <td>1.0</td>\n      <td>2</td>\n      <td>3</td>\n      <td>1.0</td>\n      <td>['BARBECUE_GRILL', 'GATED_COMMUNITY', 'PETS_AL...</td>\n      <td>Excelente apto garden com 66m² de área útil em...</td>\n      <td>Apartamento Novo Mundo 66m² útil</td>\n      <td>81050150</td>\n      <td>-49.304465</td>\n      <td>-25.492857</td>\n      <td>Rua Deputado Waldemiro Pedroso</td>\n      <td>Novo Mundo</td>\n      <td>['BS:Ponto - 672 Formosa', 'BS:Ponto - 615 Ube...</td>\n      <td>NaN</td>\n      <td>NaN</td>\n      <td>269990</td>\n    </tr>\n  </tbody>\n</table>\n</div>"
     },
     "execution_count": 5,
     "metadata": {},
     "output_type": "execute_result"
    }
   ],
   "source": [
    "df_original.head()"
   ],
   "metadata": {
    "collapsed": false
   }
  },
  {
   "cell_type": "code",
   "execution_count": 7,
   "outputs": [
    {
     "data": {
      "text/plain": "(18760, 18)"
     },
     "execution_count": 7,
     "metadata": {},
     "output_type": "execute_result"
    }
   ],
   "source": [
    "df_original.shape"
   ],
   "metadata": {
    "collapsed": false
   }
  }
 ],
 "metadata": {
  "kernelspec": {
   "display_name": "Python 3",
   "language": "python",
   "name": "python3"
  },
  "language_info": {
   "codemirror_mode": {
    "name": "ipython",
    "version": 2
   },
   "file_extension": ".py",
   "mimetype": "text/x-python",
   "name": "python",
   "nbconvert_exporter": "python",
   "pygments_lexer": "ipython2",
   "version": "2.7.6"
  }
 },
 "nbformat": 4,
 "nbformat_minor": 0
}
